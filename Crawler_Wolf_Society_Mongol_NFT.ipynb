{
  "nbformat": 4,
  "nbformat_minor": 0,
  "metadata": {
    "colab": {
      "name": "Crawler-Wolf Society Mongol NFT.ipynb",
      "provenance": [],
      "authorship_tag": "ABX9TyPTv43aJNK1QY5sCzSyvXFA",
      "include_colab_link": true
    },
    "kernelspec": {
      "name": "python3",
      "display_name": "Python 3"
    },
    "language_info": {
      "name": "python"
    }
  },
  "cells": [
    {
      "cell_type": "markdown",
      "metadata": {
        "id": "view-in-github",
        "colab_type": "text"
      },
      "source": [
        "<a href=\"https://colab.research.google.com/github/epuujee/data_science/blob/master/Crawler_Wolf_Society_Mongol_NFT.ipynb\" target=\"_parent\"><img src=\"https://colab.research.google.com/assets/colab-badge.svg\" alt=\"Open In Colab\"/></a>"
      ]
    },
    {
      "cell_type": "code",
      "execution_count": null,
      "metadata": {
        "colab": {
          "base_uri": "https://localhost:8080/"
        },
        "id": "-0pduW6g1Hh9",
        "outputId": "5bac2ed5-dc6e-4daf-a0e0-ab9771bea5ba"
      },
      "outputs": [
        {
          "output_type": "stream",
          "name": "stdout",
          "text": [
            "Drive already mounted at /content/gdrive; to attempt to forcibly remount, call drive.mount(\"/content/gdrive\", force_remount=True).\n"
          ]
        }
      ],
      "source": [
        "from google.colab import drive, files\n",
        "drive.mount('/content/gdrive')"
      ]
    },
    {
      "cell_type": "code",
      "source": [
        "import requests\n",
        "from io import BytesIO\n",
        "from PIL import Image"
      ],
      "metadata": {
        "id": "tVH63kij5N6R"
      },
      "execution_count": null,
      "outputs": []
    },
    {
      "cell_type": "markdown",
      "source": [
        "https://nfts-media.mongolnft.xyz/mnft_wolves/{0-2}/{0-5}/images/{0-100}.png\n"
      ],
      "metadata": {
        "id": "skVPzej_1ci_"
      }
    },
    {
      "cell_type": "code",
      "source": [
        "for i in range(3):\n",
        "  for j in range(6):\n",
        "    for k in range(101):\n",
        "      try:\n",
        "        img_url = \"https://nfts-media.mongolnft.xyz/mnft_wolves/%s/%s/images/%s.png\" % (i, j, k)        \n",
        "        file_name = 'wolf_%s_%s_%s.png' % (i, j, k)\n",
        "        r = requests.get(img_url)\n",
        "        img = Image.open(BytesIO(r.content))        \n",
        "        img.save('/content/gdrive/MyDrive/Colab Notebooks/Wolf/'+file_name)       \n",
        "      except:\n",
        "        print(\"An exception occurred\")\n",
        "    "
      ],
      "metadata": {
        "id": "DkmG9PSX1gBc"
      },
      "execution_count": null,
      "outputs": []
    },
    {
      "cell_type": "code",
      "source": [
        ""
      ],
      "metadata": {
        "id": "Goenqfdh3Yu7"
      },
      "execution_count": null,
      "outputs": []
    }
  ]
}