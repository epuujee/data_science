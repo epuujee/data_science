{
  "nbformat": 4,
  "nbformat_minor": 0,
  "metadata": {
    "colab": {
      "name": "Neo4j DB.ipynb",
      "provenance": [],
      "collapsed_sections": [],
      "authorship_tag": "ABX9TyM27kicQM6LXz3ne4w5NBuZ",
      "include_colab_link": true
    },
    "kernelspec": {
      "name": "python3",
      "display_name": "Python 3"
    },
    "language_info": {
      "name": "python"
    }
  },
  "cells": [
    {
      "cell_type": "markdown",
      "metadata": {
        "id": "view-in-github",
        "colab_type": "text"
      },
      "source": [
        "<a href=\"https://colab.research.google.com/github/epuujee/data_science/blob/master/Neo4j_DB.ipynb\" target=\"_parent\"><img src=\"https://colab.research.google.com/assets/colab-badge.svg\" alt=\"Open In Colab\"/></a>"
      ]
    },
    {
      "cell_type": "markdown",
      "source": [
        "**Practicing Neo4j**"
      ],
      "metadata": {
        "id": "AxjrKhnfcVsV"
      }
    },
    {
      "cell_type": "code",
      "execution_count": null,
      "metadata": {
        "id": "PRJbXveb9pKx",
        "colab": {
          "base_uri": "https://localhost:8080/"
        },
        "outputId": "db499fff-178e-4639-a6ce-5bf686f31f1d"
      },
      "outputs": [
        {
          "output_type": "stream",
          "name": "stdout",
          "text": [
            "Collecting neo4j-driver\n",
            "  Downloading neo4j-driver-4.4.1.tar.gz (89 kB)\n",
            "\u001b[?25l\r\u001b[K     |███▊                            | 10 kB 21.3 MB/s eta 0:00:01\r\u001b[K     |███████▍                        | 20 kB 27.3 MB/s eta 0:00:01\r\u001b[K     |███████████                     | 30 kB 31.6 MB/s eta 0:00:01\r\u001b[K     |██████████████▊                 | 40 kB 15.2 MB/s eta 0:00:01\r\u001b[K     |██████████████████▍             | 51 kB 5.8 MB/s eta 0:00:01\r\u001b[K     |██████████████████████          | 61 kB 6.9 MB/s eta 0:00:01\r\u001b[K     |█████████████████████████▊      | 71 kB 7.7 MB/s eta 0:00:01\r\u001b[K     |█████████████████████████████▍  | 81 kB 8.5 MB/s eta 0:00:01\r\u001b[K     |████████████████████████████████| 89 kB 4.9 MB/s \n",
            "\u001b[?25hRequirement already satisfied: pytz in /usr/local/lib/python3.7/dist-packages (from neo4j-driver) (2018.9)\n",
            "Building wheels for collected packages: neo4j-driver\n",
            "  Building wheel for neo4j-driver (setup.py) ... \u001b[?25l\u001b[?25hdone\n",
            "  Created wheel for neo4j-driver: filename=neo4j_driver-4.4.1-py3-none-any.whl size=114900 sha256=0f09d882c8e94f56505e144fce9a06f8b0a35f4a8876adc551d432fa0840ab0f\n",
            "  Stored in directory: /root/.cache/pip/wheels/9c/cf/77/5cd7afa8d3b806e29468eba9c3e7e1d9b9077ddd23a3385afa\n",
            "Successfully built neo4j-driver\n",
            "Installing collected packages: neo4j-driver\n",
            "Successfully installed neo4j-driver-4.4.1\n"
          ]
        }
      ],
      "source": [
        "!pip install neo4j-driver"
      ]
    },
    {
      "cell_type": "code",
      "source": [
        "from neo4j import GraphDatabase, basic_auth"
      ],
      "metadata": {
        "id": "0uwEUFcD9sGq"
      },
      "execution_count": null,
      "outputs": []
    },
    {
      "cell_type": "code",
      "source": [
        "driver = GraphDatabase.driver(\n",
        "  \"neo4j://server\",\n",
        "  auth=basic_auth(\"user\", \"password\"))"
      ],
      "metadata": {
        "id": "WEBjy0j79yKi"
      },
      "execution_count": null,
      "outputs": []
    },
    {
      "cell_type": "code",
      "source": [
        "cypher_query = '''\n",
        "MATCH p=()-[r:ATTACKER]->() RETURN p LIMIT 25'''\n",
        "\n",
        "with driver.session(database=\"neo4j\") as session:\n",
        "  results = session.read_transaction(\n",
        "    lambda tx: tx.run(cypher_query).data())\n",
        "  \n",
        "  print(results)"
      ],
      "metadata": {
        "colab": {
          "base_uri": "https://localhost:8080/"
        },
        "id": "Unt8b7Ku90OB",
        "outputId": "325c9dce-9e92-44a5-ae22-4b00ddf3115b"
      },
      "execution_count": null,
      "outputs": [
        {
          "output_type": "stream",
          "name": "stdout",
          "text": [
            "[{'p': [{'name': 'Lannister'}, 'ATTACKER', {'major_death': '1', 'defender_size': 4000, 'year': 298, 'battle_type': 'pitched battle', 'attacker_size': 15000, 'name': 'Battle of the Golden Tooth', 'major_capture': '0', 'summer': '1'}]}, {'p': [{'name': 'Lannister'}, 'ATTACKER', {'major_death': '1', 'defender_size': 120, 'year': 298, 'battle_type': 'ambush', 'name': \"Battle at the Mummer's Ford\", 'major_capture': '0', 'summer': '1'}]}, {'p': [{'name': 'Lannister'}, 'ATTACKER', {'major_death': '0', 'defender_size': 10000, 'year': 298, 'battle_type': 'pitched battle', 'attacker_size': 15000, 'name': 'Battle of Riverrun', 'major_capture': '1', 'summer': '1'}]}, {'p': [{'name': 'Lannister'}, 'ATTACKER', {'major_death': '0', 'year': 298, 'battle_type': 'pitched battle', 'name': 'Sack of Darry', 'major_capture': '0', 'summer': '1'}]}, {'p': [{'name': 'Lannister'}, 'ATTACKER', {'major_death': '0', 'defender_size': 10000, 'year': 299, 'battle_type': 'pitched battle', 'attacker_size': 20000, 'name': 'Battle of the Fords', 'major_capture': '0', 'summer': '1'}]}, {'p': [{'name': 'Lannister'}, 'ATTACKER', {'major_death': '0', 'defender_size': 6000, 'year': 299, 'battle_type': 'pitched battle', 'name': 'Battle of the Ruby Ford', 'major_capture': '0'}]}, {'p': [{'name': 'Lannister'}, 'ATTACKER', {'major_death': '1', 'year': 299, 'battle_type': 'pitched battle', 'name': 'Retaking of Harrenhal', 'major_capture': '0', 'summer': '1'}]}, {'p': [{'name': 'Lannister'}, 'ATTACKER', {'major_death': '0', 'year': 300, 'attacker_size': 3000, 'battle_type': 'siege', 'name': 'Siege of Riverrun', 'major_capture': '0', 'summer': '0'}]}, {'p': [{'name': 'Lannister'}, 'ATTACKER', {'major_death': '0', 'year': 300, 'attacker_size': 1500, 'battle_type': 'siege', 'name': 'Siege of Raventree', 'major_capture': '1', 'summer': '0'}]}, {'p': [{'name': 'Stark'}, 'ATTACKER', {'major_death': '1', 'defender_size': 20000, 'year': 298, 'battle_type': 'pitched battle', 'attacker_size': 18000, 'name': 'Battle of the Green Fork', 'major_capture': '1', 'summer': '1'}]}, {'p': [{'name': 'Stark'}, 'ATTACKER', {'major_death': '1', 'defender_size': 6000, 'year': 298, 'battle_type': 'ambush', 'attacker_size': 1875, 'name': 'Battle of the Whispering Wood', 'major_capture': '1', 'summer': '1'}]}, {'p': [{'name': 'Stark'}, 'ATTACKER', {'major_death': '0', 'defender_size': 12625, 'year': 298, 'battle_type': 'ambush', 'attacker_size': 6000, 'name': 'Battle of the Camps', 'major_capture': '0', 'summer': '1'}]}, {'p': [{'name': 'Stark'}, 'ATTACKER', {'note': \"Greyjoy's troop number comes from the 264 estimate to have arrived on the stony shore minus the 20 Theon takes to attack Winterfell. Thus 264-20=244\", 'major_death': '0', 'defender_size': 900, 'year': 299, 'battle_type': 'pitched battle', 'attacker_size': 244, 'name': \"Battle of Torrhen's Square\", 'major_capture': '0', 'summer': '1'}]}, {'p': [{'name': 'Stark'}, 'ATTACKER', {'major_death': '1', 'defender_size': 10000, 'year': 299, 'battle_type': 'ambush', 'attacker_size': 6000, 'name': 'Battle of Oxcross', 'major_capture': '1', 'summer': '1'}]}, {'p': [{'name': 'Stark'}, 'ATTACKER', {'major_death': '1', 'defender_size': 100, 'year': 299, 'battle_type': 'ambush', 'attacker_size': 100, 'name': 'Sack of Harrenhal', 'major_capture': '0', 'summer': '1'}]}, {'p': [{'name': 'Stark'}, 'ATTACKER', {'major_death': '0', 'year': 299, 'battle_type': 'ambush', 'attacker_size': 6000, 'name': 'Battle of the Crag', 'major_capture': '0', 'summer': '1'}]}, {'p': [{'name': 'Stark'}, 'ATTACKER', {'major_death': '1', 'year': 299, 'battle_type': 'pitched battle', 'attacker_size': 3000, 'name': 'Battle of Duskendale', 'major_capture': '0', 'summer': '1'}]}, {'p': [{'name': 'Greyjoy'}, 'ATTACKER', {'major_death': '0', 'year': 299, 'battle_type': 'pitched battle', 'name': 'Battle of Moat Cailin', 'major_capture': '0', 'summer': '1'}]}, {'p': [{'name': 'Greyjoy'}, 'ATTACKER', {'major_death': '0', 'year': 299, 'attacker_size': 1000, 'battle_type': 'siege', 'name': 'Battle of Deepwood Motte', 'major_capture': '0', 'summer': '1'}]}, {'p': [{'name': 'Greyjoy'}, 'ATTACKER', {'major_death': '0', 'note': \"Greyjoy's troop number based on the Battle of Deepwood Motte, in which Asha had 1000 soldier on 30 longships. That comes out to ~33 per longship. In the Battle of the Stony Shore, Theon has 8 longships, and just we can estimate that he has 8*33 =265 troops.\", 'year': 299, 'battle_type': 'ambush', 'attacker_size': 264, 'name': 'Battle of the Stony Shore', 'major_capture': '0', 'summer': '1'}]}, {'p': [{'name': 'Greyjoy'}, 'ATTACKER', {'major_death': '0', 'note': 'It isn\\'t mentioned how many Stark men are left in Winterfell, other than \"very few\".', 'year': 299, 'battle_type': 'ambush', 'attacker_size': 20, 'name': 'Battle of Winterfell', 'major_capture': '1', 'summer': '1'}]}, {'p': [{'name': 'Greyjoy'}, 'ATTACKER', {'major_death': '0', 'year': 299, 'battle_type': 'siege', 'name': \"Sack of Torrhen's Square\", 'major_capture': '1', 'summer': '1'}]}, {'p': [{'name': 'Greyjoy'}, 'ATTACKER', {'major_death': '0', 'year': 300, 'battle_type': 'pitched battle', 'name': 'Battle of the Shield Islands', 'major_capture': '0', 'summer': '0'}]}, {'p': [{'name': 'Greyjoy'}, 'ATTACKER', {'major_death': '1', 'note': \"Since House Bolton betrays the Starks for House Lannister, we code this battle as between these two houses. Greyjoy men, numbering only 20, don't play a major part in the fighting and end up dying anyway.\", 'defender_size': 2000, 'year': 299, 'battle_type': 'ambush', 'attacker_size': 618, 'name': 'Sack of Winterfell', 'major_capture': '0', 'summer': '1'}]}, {'p': [{'name': 'Greyjoy'}, 'ATTACKER', {'major_death': '0', 'year': 300, 'battle_type': 'razing', 'name': 'Invasion of Ryamsport, Vinetown, and Starfish Harbor', 'major_capture': '0', 'summer': '0'}]}]\n"
          ]
        }
      ]
    },
    {
      "cell_type": "code",
      "source": [
        "driver.close()"
      ],
      "metadata": {
        "id": "rBOFNCCc93ww"
      },
      "execution_count": null,
      "outputs": []
    }
  ]
}